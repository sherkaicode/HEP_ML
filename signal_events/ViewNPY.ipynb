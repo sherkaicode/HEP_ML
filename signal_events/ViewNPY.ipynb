{
 "cells": [
  {
   "cell_type": "code",
   "execution_count": 3,
   "id": "ca801e1a",
   "metadata": {},
   "outputs": [
    {
     "name": "stdout",
     "output_type": "stream",
     "text": [
      "<class 'numpy.ndarray'>\n"
     ]
    }
   ],
   "source": [
    "import numpy as np\n",
    "\n",
    "# Load the .npz file\n",
    "data = np.load('signal_events/sig_events.npy')\n",
    "\n",
    "# List the arrays inside the file\n",
    "print(type(data))\n"
   ]
  },
  {
   "cell_type": "code",
   "execution_count": 6,
   "id": "a03fb672",
   "metadata": {},
   "outputs": [
    {
     "name": "stdout",
     "output_type": "stream",
     "text": [
      "[[2.95953e+03 3.03631e+02 2.43468e+03 ... 5.73631e-01 6.68943e-01\n",
      "  4.59749e-01]\n",
      " [1.22061e+03 8.68707e+02 4.21893e+02 ... 4.99608e-01 7.77133e-01\n",
      "  8.47991e-01]\n",
      " [1.21669e+03 3.22680e+01 6.88659e+02 ... 6.01613e-01 8.09468e-01\n",
      "  7.33697e-01]\n",
      " ...\n",
      " [2.08733e+03 7.88628e+01 2.50790e+03 ... 7.45022e-01 7.66242e-01\n",
      "  9.15434e-01]\n",
      " [1.18390e+03 6.76048e+02 8.32380e+02 ... 4.09701e-01 7.63784e-01\n",
      "  6.82096e-01]\n",
      " [1.19994e+03 4.40172e+01 8.68760e+02 ... 3.26789e-01 7.81317e-01\n",
      "  5.86586e-01]]\n"
     ]
    }
   ],
   "source": [
    "len(data[0])\n",
    "print(data)"
   ]
  }
 ],
 "metadata": {
  "kernelspec": {
   "display_name": "Python 3 (ipykernel)",
   "language": "python",
   "name": "python3"
  },
  "language_info": {
   "codemirror_mode": {
    "name": "ipython",
    "version": 3
   },
   "file_extension": ".py",
   "mimetype": "text/x-python",
   "name": "python",
   "nbconvert_exporter": "python",
   "pygments_lexer": "ipython3",
   "version": "3.12.3"
  }
 },
 "nbformat": 4,
 "nbformat_minor": 5
}
